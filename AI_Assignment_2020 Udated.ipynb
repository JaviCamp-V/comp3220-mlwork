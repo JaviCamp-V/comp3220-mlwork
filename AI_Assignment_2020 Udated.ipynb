{
  "nbformat": 4,
  "nbformat_minor": 0,
  "metadata": {
    "colab": {
      "name": "AI_Assignment_2020.ipynb",
      "provenance": [],
      "collapsed_sections": [],
      "toc_visible": true
    },
    "kernelspec": {
      "name": "python3",
      "display_name": "Python 3"
    }
  },
  "cells": [
    {
      "cell_type": "markdown",
      "metadata": {
        "id": "YOUzHRHN3vAT"
      },
      "source": [
        "# Binary Digit Classifier\n",
        "\n",
        "We have been offered a job at ML Solutions Limited to create a neural network classifier that can classify images of written binary digits (1 or 0)."
      ]
    },
    {
      "cell_type": "code",
      "metadata": {
        "id": "Ulj2I5lI9guE"
      },
      "source": [
        "!pip install tensorflow keras numpy mnist matplotlib"
      ],
      "execution_count": null,
      "outputs": []
    },
    {
      "cell_type": "code",
      "metadata": {
        "colab": {
          "base_uri": "https://localhost:8080/"
        },
        "id": "JZKNbSN55uoc",
        "outputId": "6e30f85d-9a9b-415f-8803-b9b0a46ba288"
      },
      "source": [
        "from google.colab import drive\n",
        "drive.mount('/content/drive')"
      ],
      "execution_count": null,
      "outputs": [
        {
          "output_type": "stream",
          "text": [
            "Mounted at /content/drive\n"
          ],
          "name": "stdout"
        }
      ]
    },
    {
      "cell_type": "code",
      "metadata": {
        "id": "iSbYnuQlQXat"
      },
      "source": [
        "import tensorflow as tf\n",
        "import numpy as np\n",
        "from keras.models import Sequential\n",
        "from keras.layers import Dense\n",
        "from sklearn.model_selection import train_test_split\n",
        "import numpy\n",
        "import pandas as pd # data processing\n",
        "import matplotlib.pyplot as plt"
      ],
      "execution_count": null,
      "outputs": []
    },
    {
      "cell_type": "code",
      "metadata": {
        "id": "5bqNYCG9tOn8"
      },
      "source": [
        "from tensorflow.keras.datasets import mnist\n"
      ],
      "execution_count": null,
      "outputs": []
    },
    {
      "cell_type": "code",
      "metadata": {
        "id": "PkL32QxRtex6",
        "colab": {
          "base_uri": "https://localhost:8080/"
        },
        "outputId": "2c7f7ac2-a31f-4f78-98be-7c1c2c2dea30"
      },
      "source": [
        "(x_train, y_train), (x_test, y_test) = mnist.load_data()\n"
      ],
      "execution_count": null,
      "outputs": [
        {
          "output_type": "stream",
          "text": [
            "Downloading data from https://storage.googleapis.com/tensorflow/tf-keras-datasets/mnist.npz\n",
            "11493376/11490434 [==============================] - 0s 0us/step\n"
          ],
          "name": "stdout"
        }
      ]
    },
    {
      "cell_type": "code",
      "metadata": {
        "id": "G2AJdfaZtj9r",
        "colab": {
          "base_uri": "https://localhost:8080/",
          "height": 282
        },
        "outputId": "c5d12cff-df63-4ef4-a27d-699fa64df072"
      },
      "source": [
        "import matplotlib.pyplot as plt\n",
        "\n",
        "plt.imshow(x_train[0], cmap= plt.cm.binary)\n",
        "plt.show()\n",
        "x_train.shape, x_test.shape"
      ],
      "execution_count": null,
      "outputs": [
        {
          "output_type": "display_data",
          "data": {
            "image/png": "[encoded data removed]",
            "text/plain": [
              "<Figure size 432x288 with 1 Axes>"
            ]
          },
          "metadata": {
            "tags": [],
            "needs_background": "light"
          }
        },
        {
          "output_type": "execute_result",
          "data": {
            "text/plain": [
              "((60000, 28, 28), (10000, 28, 28))"
            ]
          },
          "metadata": {
            "tags": []
          },
          "execution_count": 12
        }
      ]
    },
    {
      "cell_type": "markdown",
      "metadata": {
        "id": "SRwpCiLHtr7B"
      },
      "source": [
        "Now we want to take out the 1's and 0's from this dataset so that we can do classification on those. Here we are extracting the input data and their respective labels for those whose labeles have either 0 or 1."
      ]
    },
    {
      "cell_type": "code",
      "metadata": {
        "id": "B8djEJFOtn5F"
      },
      "source": [
        "x_train, y_train = x_train[(y_train==1) | (y_train==0)],y_train[(y_train==1) | (y_train==0)]"
      ],
      "execution_count": null,
      "outputs": []
    },
    {
      "cell_type": "code",
      "metadata": {
        "id": "U7aMLCLCuGyx",
        "colab": {
          "base_uri": "https://localhost:8080/"
        },
        "outputId": "a04887e1-55c8-4603-c0b0-ad78aa1d84eb"
      },
      "source": [
        "x_train.shape, y_train.shape"
      ],
      "execution_count": null,
      "outputs": [
        {
          "output_type": "execute_result",
          "data": {
            "text/plain": [
              "((12665, 28, 28), (12665,))"
            ]
          },
          "metadata": {
            "tags": []
          },
          "execution_count": 14
        }
      ]
    },
    {
      "cell_type": "markdown",
      "metadata": {
        "id": "Dq5GcxhRvIZt"
      },
      "source": [
        "We do the same on the test data"
      ]
    },
    {
      "cell_type": "code",
      "metadata": {
        "id": "ZxITpob3u0il"
      },
      "source": [
        "x_test,y_test = x_test[(y_test==1) | (y_test==0)], y_test[(y_test==1) | (y_test==0)]\n"
      ],
      "execution_count": null,
      "outputs": []
    },
    {
      "cell_type": "code",
      "metadata": {
        "id": "aBW7ikV84qKz",
        "colab": {
          "base_uri": "https://localhost:8080/"
        },
        "outputId": "c3439cbb-3cb2-4471-fce9-2d378b6f5c79"
      },
      "source": [
        "x_test.shape, y_test.shape"
      ],
      "execution_count": null,
      "outputs": [
        {
          "output_type": "execute_result",
          "data": {
            "text/plain": [
              "((2115, 28, 28), (2115,))"
            ]
          },
          "metadata": {
            "tags": []
          },
          "execution_count": 16
        }
      ]
    },
    {
      "cell_type": "markdown",
      "metadata": {
        "id": "hJzC3f0Z6quy"
      },
      "source": [
        ""
      ]
    },
    {
      "cell_type": "markdown",
      "metadata": {
        "id": "b_4SxcsLva_K"
      },
      "source": [
        "Let us see what our data looks like. We will pick a random instance from the dataset and visualize it."
      ]
    },
    {
      "cell_type": "code",
      "metadata": {
        "id": "OMkpiDcNvW0n",
        "colab": {
          "base_uri": "https://localhost:8080/",
          "height": 282
        },
        "outputId": "e6af5ef2-ca85-474c-9dcd-4036b21fd6bf"
      },
      "source": [
        "import random\n",
        "import matplotlib.pyplot as plt\n",
        "picked_idx = random.randint(0, x_train.shape[0]-1)\n",
        "\n",
        "img_picked = x_train[picked_idx]\n",
        "label = y_train[picked_idx]\n",
        "\n",
        "plt.imshow(img_picked)\n",
        "print('Label: ', label)\n"
      ],
      "execution_count": null,
      "outputs": [
        {
          "output_type": "stream",
          "text": [
            "Label:  1\n"
          ],
          "name": "stdout"
        },
        {
          "output_type": "display_data",
          "data": {
            "image/png": "[encoded data removed]",
            "text/plain": [
              "<Figure size 432x288 with 1 Axes>"
            ]
          },
          "metadata": {
            "tags": [],
            "needs_background": "light"
          }
        }
      ]
    },
    {
      "cell_type": "markdown",
      "metadata": {
        "id": "tDWW7n1Hwhe2"
      },
      "source": [
        "# Preprocessing\n",
        "\n",
        "Before we are ready to train our predict whether an image is a 1 or a 0, we need to do some preprocessing on the data."
      ]
    },
    {
      "cell_type": "code",
      "metadata": {
        "id": "oikiBpenwhGD"
      },
      "source": [
        "# Neural networks play better with small numbers. Images tend to have pixel values between 0 and 255. \n",
        "# Rescale this to 0-1. Hint try dividing\n",
        "# Do this to x_train and x_test\n",
        "# Remember to store the output back into x_train and x_test\n",
        "x_train=(x_train/255)-0.5\n",
        "x_test=(x_test/255)-0.5"
      ],
      "execution_count": null,
      "outputs": []
    },
    {
      "cell_type": "code",
      "metadata": {
        "colab": {
          "base_uri": "https://localhost:8080/"
        },
        "id": "PMqXkG11uvFx",
        "outputId": "3dd7e6f4-880b-4738-ff6f-a3e1eecd60b7"
      },
      "source": [
        "x_train.shape,x_test.shape"
      ],
      "execution_count": null,
      "outputs": [
        {
          "output_type": "execute_result",
          "data": {
            "text/plain": [
              "((12665, 28, 28), (2115, 28, 28))"
            ]
          },
          "metadata": {
            "tags": []
          },
          "execution_count": 19
        }
      ]
    },
    {
      "cell_type": "code",
      "metadata": {
        "id": "1VsqKZSmyERP"
      },
      "source": [
        "# Since you will be using a regular Dense neural network. The network expects your data to be flattened from 2D to 1D\n",
        "# Rehsape the data from (N, 28, 28) to (N, 784) N represents number of images. \n",
        "# Each image is 28x28, we want to chage that to one flat row with 784\n",
        "x_train =x_train.reshape((-1,784))\n",
        "x_test =x_test.reshape((-1,784))\n"
      ],
      "execution_count": null,
      "outputs": []
    },
    {
      "cell_type": "code",
      "metadata": {
        "id": "oa2FYvIs5NgD",
        "colab": {
          "base_uri": "https://localhost:8080/"
        },
        "outputId": "a78dc3e6-f681-44f0-945d-1ffe526ba9a5"
      },
      "source": [
        "x_train.shape,x_test.shape"
      ],
      "execution_count": null,
      "outputs": [
        {
          "output_type": "execute_result",
          "data": {
            "text/plain": [
              "((12665, 784), (2115, 784))"
            ]
          },
          "metadata": {
            "tags": []
          },
          "execution_count": 21
        }
      ]
    },
    {
      "cell_type": "markdown",
      "metadata": {
        "id": "utKUP2Sw4M_G"
      },
      "source": [
        "# Create Model"
      ]
    },
    {
      "cell_type": "markdown",
      "metadata": {
        "id": "P9JEuHOPwRBG"
      },
      "source": [
        "Create a neural network model using tensorflow with at least 1 hidden layer. The output layer must have 1 unit. Experiment with different number of layers and number of units in each layer. This is where your creativitiy as a machine learning engineer comes in to play."
      ]
    },
    {
      "cell_type": "code",
      "metadata": {
        "id": "vUKwJdclvshK"
      },
      "source": [
        "#create model\n",
        "\n",
        "model = tf.keras.Sequential([\n",
        "    tf.keras.layers.Dense(512, activation='relu'),\n",
        "    tf.keras.layers.Dense(8, activation='relu'),\n",
        "    tf.keras.layers.Dense(1, activation='sigmoid')\n",
        "])\n",
        "#model = Sequential()\n",
        "#model.add(Dense(512, input_dim = 8, activation = 'relu')) \n",
        "#model.add(Dense(8, activation = 'relu'))\n",
        "#model.add(Dense(1, activation = 'sigmoid'))"
      ],
      "execution_count": 59,
      "outputs": []
    },
    {
      "cell_type": "markdown",
      "metadata": {
        "id": "gE3n1ppy0uVa"
      },
      "source": [
        "Compile the model"
      ]
    },
    {
      "cell_type": "code",
      "metadata": {
        "id": "hpDTrhi40tW3"
      },
      "source": [
        "# Complie the model\n",
        "# Ensure you use the binary cross entropy loss function and sgd for your optmizer\n",
        "model.compile(optimizer='sgd', loss='binary_crossentropy', metrics=['accuracy'])\n"
      ],
      "execution_count": 60,
      "outputs": []
    },
    {
      "cell_type": "markdown",
      "metadata": {
        "id": "4_dOXDNi0_NR"
      },
      "source": [
        "Now to train the model. Store the ouput of model.fit in a vairable called history as we are going to use this to plot the train accuracy and loss. Try different values for batch size and epochs. The aim is to get the highest test accuaracy possible."
      ]
    },
    {
      "cell_type": "code",
      "metadata": {
        "id": "hARFVH6S0-h7",
        "colab": {
          "base_uri": "https://localhost:8080/"
        },
        "outputId": "32a1805c-202c-4dd8-814c-d8013508f101"
      },
      "source": [
        "history = model.fit(x_train, y_train,epochs=150,batch_size = 5)\n"
      ],
      "execution_count": 61,
      "outputs": [
        {
          "output_type": "stream",
          "text": [
            "Epoch 1/150\n",
            "2533/2533 [==============================] - 5s 2ms/step - loss: 0.1361 - accuracy: 0.9908\n",
            "Epoch 2/150\n",
            "2533/2533 [==============================] - 5s 2ms/step - loss: 0.0349 - accuracy: 0.9983\n",
            "Epoch 3/150\n",
            "2533/2533 [==============================] - 5s 2ms/step - loss: 0.0208 - accuracy: 0.9988\n",
            "Epoch 4/150\n",
            "2533/2533 [==============================] - 5s 2ms/step - loss: 0.0150 - accuracy: 0.9991\n",
            "Epoch 5/150\n",
            "2533/2533 [==============================] - 5s 2ms/step - loss: 0.0118 - accuracy: 0.9993\n",
            "Epoch 6/150\n",
            "2533/2533 [==============================] - 5s 2ms/step - loss: 0.0096 - accuracy: 0.9992\n",
            "Epoch 7/150\n",
            "2533/2533 [==============================] - 5s 2ms/step - loss: 0.0081 - accuracy: 0.9993\n",
            "Epoch 8/150\n",
            "2533/2533 [==============================] - 5s 2ms/step - loss: 0.0072 - accuracy: 0.9995\n",
            "Epoch 9/150\n",
            "2533/2533 [==============================] - 5s 2ms/step - loss: 0.0062 - accuracy: 0.9997\n",
            "Epoch 10/150\n",
            "2533/2533 [==============================] - 5s 2ms/step - loss: 0.0055 - accuracy: 0.9998\n",
            "Epoch 11/150\n",
            "2533/2533 [==============================] - 5s 2ms/step - loss: 0.0051 - accuracy: 0.9998\n",
            "Epoch 12/150\n",
            "2533/2533 [==============================] - 5s 2ms/step - loss: 0.0044 - accuracy: 0.9999\n",
            "Epoch 13/150\n",
            "2533/2533 [==============================] - 5s 2ms/step - loss: 0.0043 - accuracy: 0.9997\n",
            "Epoch 14/150\n",
            "2533/2533 [==============================] - 5s 2ms/step - loss: 0.0038 - accuracy: 0.9999\n",
            "Epoch 15/150\n",
            "2533/2533 [==============================] - 5s 2ms/step - loss: 0.0036 - accuracy: 0.9998\n",
            "Epoch 16/150\n",
            "2533/2533 [==============================] - 5s 2ms/step - loss: 0.0034 - accuracy: 0.9997\n",
            "Epoch 17/150\n",
            "2533/2533 [==============================] - 5s 2ms/step - loss: 0.0031 - accuracy: 0.9999\n",
            "Epoch 18/150\n",
            "2533/2533 [==============================] - 5s 2ms/step - loss: 0.0029 - accuracy: 0.9999\n",
            "Epoch 19/150\n",
            "2533/2533 [==============================] - 5s 2ms/step - loss: 0.0028 - accuracy: 1.0000\n",
            "Epoch 20/150\n",
            "2533/2533 [==============================] - 5s 2ms/step - loss: 0.0025 - accuracy: 1.0000\n",
            "Epoch 21/150\n",
            "2533/2533 [==============================] - 5s 2ms/step - loss: 0.0024 - accuracy: 1.0000\n",
            "Epoch 22/150\n",
            "2533/2533 [==============================] - 5s 2ms/step - loss: 0.0023 - accuracy: 1.0000\n",
            "Epoch 23/150\n",
            "2533/2533 [==============================] - 5s 2ms/step - loss: 0.0022 - accuracy: 1.0000\n",
            "Epoch 24/150\n",
            "2533/2533 [==============================] - 5s 2ms/step - loss: 0.0021 - accuracy: 1.0000\n",
            "Epoch 25/150\n",
            "2533/2533 [==============================] - 5s 2ms/step - loss: 0.0020 - accuracy: 1.0000\n",
            "Epoch 26/150\n",
            "2533/2533 [==============================] - 5s 2ms/step - loss: 0.0019 - accuracy: 1.0000\n",
            "Epoch 27/150\n",
            "2533/2533 [==============================] - 5s 2ms/step - loss: 0.0018 - accuracy: 1.0000\n",
            "Epoch 28/150\n",
            "2533/2533 [==============================] - 5s 2ms/step - loss: 0.0017 - accuracy: 1.0000\n",
            "Epoch 29/150\n",
            "2533/2533 [==============================] - 5s 2ms/step - loss: 0.0017 - accuracy: 1.0000\n",
            "Epoch 30/150\n",
            "2533/2533 [==============================] - 5s 2ms/step - loss: 0.0016 - accuracy: 1.0000\n",
            "Epoch 31/150\n",
            "2533/2533 [==============================] - 5s 2ms/step - loss: 0.0015 - accuracy: 1.0000\n",
            "Epoch 32/150\n",
            "2533/2533 [==============================] - 5s 2ms/step - loss: 0.0015 - accuracy: 1.0000\n",
            "Epoch 33/150\n",
            "2533/2533 [==============================] - 5s 2ms/step - loss: 0.0014 - accuracy: 1.0000\n",
            "Epoch 34/150\n",
            "2533/2533 [==============================] - 6s 2ms/step - loss: 0.0014 - accuracy: 1.0000\n",
            "Epoch 35/150\n",
            "2533/2533 [==============================] - 5s 2ms/step - loss: 0.0013 - accuracy: 1.0000\n",
            "Epoch 36/150\n",
            "2533/2533 [==============================] - 5s 2ms/step - loss: 0.0013 - accuracy: 1.0000\n",
            "Epoch 37/150\n",
            "2533/2533 [==============================] - 5s 2ms/step - loss: 0.0013 - accuracy: 1.0000\n",
            "Epoch 38/150\n",
            "2533/2533 [==============================] - 5s 2ms/step - loss: 0.0012 - accuracy: 1.0000\n",
            "Epoch 39/150\n",
            "2533/2533 [==============================] - 5s 2ms/step - loss: 0.0012 - accuracy: 1.0000\n",
            "Epoch 40/150\n",
            "2533/2533 [==============================] - 5s 2ms/step - loss: 0.0012 - accuracy: 1.0000\n",
            "Epoch 41/150\n",
            "2533/2533 [==============================] - 5s 2ms/step - loss: 0.0011 - accuracy: 1.0000\n",
            "Epoch 42/150\n",
            "2533/2533 [==============================] - 5s 2ms/step - loss: 0.0011 - accuracy: 1.0000\n",
            "Epoch 43/150\n",
            "2533/2533 [==============================] - 5s 2ms/step - loss: 0.0011 - accuracy: 1.0000\n",
            "Epoch 44/150\n",
            "2533/2533 [==============================] - 5s 2ms/step - loss: 0.0010 - accuracy: 1.0000\n",
            "Epoch 45/150\n",
            "2533/2533 [==============================] - 5s 2ms/step - loss: 0.0010 - accuracy: 1.0000\n",
            "Epoch 46/150\n",
            "2533/2533 [==============================] - 5s 2ms/step - loss: 9.9013e-04 - accuracy: 1.0000\n",
            "Epoch 47/150\n",
            "2533/2533 [==============================] - 5s 2ms/step - loss: 9.6331e-04 - accuracy: 1.0000\n",
            "Epoch 48/150\n",
            "2533/2533 [==============================] - 5s 2ms/step - loss: 9.5074e-04 - accuracy: 1.0000\n",
            "Epoch 49/150\n",
            "2533/2533 [==============================] - 5s 2ms/step - loss: 9.2453e-04 - accuracy: 1.0000\n",
            "Epoch 50/150\n",
            "2533/2533 [==============================] - 5s 2ms/step - loss: 9.0485e-04 - accuracy: 1.0000\n",
            "Epoch 51/150\n",
            "2533/2533 [==============================] - 5s 2ms/step - loss: 8.9158e-04 - accuracy: 1.0000\n",
            "Epoch 52/150\n",
            "2533/2533 [==============================] - 5s 2ms/step - loss: 8.7060e-04 - accuracy: 1.0000\n",
            "Epoch 53/150\n",
            "2533/2533 [==============================] - 5s 2ms/step - loss: 8.4524e-04 - accuracy: 1.0000\n",
            "Epoch 54/150\n",
            "2533/2533 [==============================] - 5s 2ms/step - loss: 8.3756e-04 - accuracy: 1.0000\n",
            "Epoch 55/150\n",
            "2533/2533 [==============================] - 5s 2ms/step - loss: 8.1954e-04 - accuracy: 1.0000\n",
            "Epoch 56/150\n",
            "2533/2533 [==============================] - 5s 2ms/step - loss: 8.0445e-04 - accuracy: 1.0000\n",
            "Epoch 57/150\n",
            "2533/2533 [==============================] - 5s 2ms/step - loss: 7.8654e-04 - accuracy: 1.0000\n",
            "Epoch 58/150\n",
            "2533/2533 [==============================] - 5s 2ms/step - loss: 7.7503e-04 - accuracy: 1.0000\n",
            "Epoch 59/150\n",
            "2533/2533 [==============================] - 5s 2ms/step - loss: 7.5815e-04 - accuracy: 1.0000\n",
            "Epoch 60/150\n",
            "2533/2533 [==============================] - 5s 2ms/step - loss: 7.4593e-04 - accuracy: 1.0000\n",
            "Epoch 61/150\n",
            "2533/2533 [==============================] - 5s 2ms/step - loss: 7.2943e-04 - accuracy: 1.0000\n",
            "Epoch 62/150\n",
            "2533/2533 [==============================] - 6s 2ms/step - loss: 7.2026e-04 - accuracy: 1.0000\n",
            "Epoch 63/150\n",
            "2533/2533 [==============================] - 5s 2ms/step - loss: 7.0664e-04 - accuracy: 1.0000\n",
            "Epoch 64/150\n",
            "2533/2533 [==============================] - 5s 2ms/step - loss: 6.9793e-04 - accuracy: 1.0000\n",
            "Epoch 65/150\n",
            "2533/2533 [==============================] - 5s 2ms/step - loss: 6.8614e-04 - accuracy: 1.0000\n",
            "Epoch 66/150\n",
            "2533/2533 [==============================] - 5s 2ms/step - loss: 6.7363e-04 - accuracy: 1.0000\n",
            "Epoch 67/150\n",
            "2533/2533 [==============================] - 5s 2ms/step - loss: 6.6390e-04 - accuracy: 1.0000\n",
            "Epoch 68/150\n",
            "2533/2533 [==============================] - 5s 2ms/step - loss: 6.5145e-04 - accuracy: 1.0000\n",
            "Epoch 69/150\n",
            "2533/2533 [==============================] - 5s 2ms/step - loss: 6.4428e-04 - accuracy: 1.0000\n",
            "Epoch 70/150\n",
            "2533/2533 [==============================] - 5s 2ms/step - loss: 6.3288e-04 - accuracy: 1.0000\n",
            "Epoch 71/150\n",
            "2533/2533 [==============================] - 5s 2ms/step - loss: 6.2367e-04 - accuracy: 1.0000\n",
            "Epoch 72/150\n",
            "2533/2533 [==============================] - 5s 2ms/step - loss: 6.1526e-04 - accuracy: 1.0000\n",
            "Epoch 73/150\n",
            "2533/2533 [==============================] - 5s 2ms/step - loss: 6.0596e-04 - accuracy: 1.0000\n",
            "Epoch 74/150\n",
            "2533/2533 [==============================] - 5s 2ms/step - loss: 5.9794e-04 - accuracy: 1.0000\n",
            "Epoch 75/150\n",
            "2533/2533 [==============================] - 5s 2ms/step - loss: 5.8723e-04 - accuracy: 1.0000\n",
            "Epoch 76/150\n",
            "2533/2533 [==============================] - 5s 2ms/step - loss: 5.8105e-04 - accuracy: 1.0000\n",
            "Epoch 77/150\n",
            "2533/2533 [==============================] - 5s 2ms/step - loss: 5.7248e-04 - accuracy: 1.0000\n",
            "Epoch 78/150\n",
            "2533/2533 [==============================] - 5s 2ms/step - loss: 5.6479e-04 - accuracy: 1.0000\n",
            "Epoch 79/150\n",
            "2533/2533 [==============================] - 5s 2ms/step - loss: 5.5760e-04 - accuracy: 1.0000\n",
            "Epoch 80/150\n",
            "2533/2533 [==============================] - 5s 2ms/step - loss: 5.5014e-04 - accuracy: 1.0000\n",
            "Epoch 81/150\n",
            "2533/2533 [==============================] - 5s 2ms/step - loss: 5.4165e-04 - accuracy: 1.0000\n",
            "Epoch 82/150\n",
            "2533/2533 [==============================] - 5s 2ms/step - loss: 5.3592e-04 - accuracy: 1.0000\n",
            "Epoch 83/150\n",
            "2533/2533 [==============================] - 5s 2ms/step - loss: 5.2861e-04 - accuracy: 1.0000\n",
            "Epoch 84/150\n",
            "2533/2533 [==============================] - 5s 2ms/step - loss: 5.2207e-04 - accuracy: 1.0000\n",
            "Epoch 85/150\n",
            "2533/2533 [==============================] - 5s 2ms/step - loss: 5.1575e-04 - accuracy: 1.0000\n",
            "Epoch 86/150\n",
            "2533/2533 [==============================] - 5s 2ms/step - loss: 5.1047e-04 - accuracy: 1.0000\n",
            "Epoch 87/150\n",
            "2533/2533 [==============================] - 5s 2ms/step - loss: 5.0386e-04 - accuracy: 1.0000\n",
            "Epoch 88/150\n",
            "2533/2533 [==============================] - 5s 2ms/step - loss: 4.9708e-04 - accuracy: 1.0000\n",
            "Epoch 89/150\n",
            "2533/2533 [==============================] - 5s 2ms/step - loss: 4.9184e-04 - accuracy: 1.0000\n",
            "Epoch 90/150\n",
            "2533/2533 [==============================] - 5s 2ms/step - loss: 4.8556e-04 - accuracy: 1.0000\n",
            "Epoch 91/150\n",
            "2533/2533 [==============================] - 5s 2ms/step - loss: 4.8031e-04 - accuracy: 1.0000\n",
            "Epoch 92/150\n",
            "2533/2533 [==============================] - 5s 2ms/step - loss: 4.7421e-04 - accuracy: 1.0000\n",
            "Epoch 93/150\n",
            "2533/2533 [==============================] - 5s 2ms/step - loss: 4.7016e-04 - accuracy: 1.0000\n",
            "Epoch 94/150\n",
            "2533/2533 [==============================] - 5s 2ms/step - loss: 4.6466e-04 - accuracy: 1.0000\n",
            "Epoch 95/150\n",
            "2533/2533 [==============================] - 5s 2ms/step - loss: 4.5903e-04 - accuracy: 1.0000\n",
            "Epoch 96/150\n",
            "2533/2533 [==============================] - 5s 2ms/step - loss: 4.5404e-04 - accuracy: 1.0000\n",
            "Epoch 97/150\n",
            "2533/2533 [==============================] - 5s 2ms/step - loss: 4.4900e-04 - accuracy: 1.0000\n",
            "Epoch 98/150\n",
            "2533/2533 [==============================] - 5s 2ms/step - loss: 4.4481e-04 - accuracy: 1.0000\n",
            "Epoch 99/150\n",
            "2533/2533 [==============================] - 5s 2ms/step - loss: 4.3992e-04 - accuracy: 1.0000\n",
            "Epoch 100/150\n",
            "2533/2533 [==============================] - 5s 2ms/step - loss: 4.3496e-04 - accuracy: 1.0000\n",
            "Epoch 101/150\n",
            "2533/2533 [==============================] - 5s 2ms/step - loss: 4.3107e-04 - accuracy: 1.0000\n",
            "Epoch 102/150\n",
            "2533/2533 [==============================] - 5s 2ms/step - loss: 4.2529e-04 - accuracy: 1.0000\n",
            "Epoch 103/150\n",
            "2533/2533 [==============================] - 5s 2ms/step - loss: 4.2226e-04 - accuracy: 1.0000\n",
            "Epoch 104/150\n",
            "2533/2533 [==============================] - 5s 2ms/step - loss: 4.1829e-04 - accuracy: 1.0000\n",
            "Epoch 105/150\n",
            "2533/2533 [==============================] - 5s 2ms/step - loss: 4.1392e-04 - accuracy: 1.0000\n",
            "Epoch 106/150\n",
            "2533/2533 [==============================] - 5s 2ms/step - loss: 4.0924e-04 - accuracy: 1.0000\n",
            "Epoch 107/150\n",
            "2533/2533 [==============================] - 5s 2ms/step - loss: 4.0536e-04 - accuracy: 1.0000\n",
            "Epoch 108/150\n",
            "2533/2533 [==============================] - 5s 2ms/step - loss: 4.0147e-04 - accuracy: 1.0000\n",
            "Epoch 109/150\n",
            "2533/2533 [==============================] - 5s 2ms/step - loss: 3.9800e-04 - accuracy: 1.0000\n",
            "Epoch 110/150\n",
            "2533/2533 [==============================] - 5s 2ms/step - loss: 3.9381e-04 - accuracy: 1.0000\n",
            "Epoch 111/150\n",
            "2533/2533 [==============================] - 5s 2ms/step - loss: 3.9041e-04 - accuracy: 1.0000\n",
            "Epoch 112/150\n",
            "2533/2533 [==============================] - 5s 2ms/step - loss: 3.8691e-04 - accuracy: 1.0000\n",
            "Epoch 113/150\n",
            "2533/2533 [==============================] - 5s 2ms/step - loss: 3.8303e-04 - accuracy: 1.0000\n",
            "Epoch 114/150\n",
            "2533/2533 [==============================] - 5s 2ms/step - loss: 3.7954e-04 - accuracy: 1.0000\n",
            "Epoch 115/150\n",
            "2533/2533 [==============================] - 5s 2ms/step - loss: 3.7636e-04 - accuracy: 1.0000\n",
            "Epoch 116/150\n",
            "2533/2533 [==============================] - 5s 2ms/step - loss: 3.7268e-04 - accuracy: 1.0000\n",
            "Epoch 117/150\n",
            "2533/2533 [==============================] - 5s 2ms/step - loss: 3.6961e-04 - accuracy: 1.0000\n",
            "Epoch 118/150\n",
            "2533/2533 [==============================] - 5s 2ms/step - loss: 3.6626e-04 - accuracy: 1.0000\n",
            "Epoch 119/150\n",
            "2533/2533 [==============================] - 5s 2ms/step - loss: 3.6318e-04 - accuracy: 1.0000\n",
            "Epoch 120/150\n",
            "2533/2533 [==============================] - 5s 2ms/step - loss: 3.5989e-04 - accuracy: 1.0000\n",
            "Epoch 121/150\n",
            "2533/2533 [==============================] - 5s 2ms/step - loss: 3.5678e-04 - accuracy: 1.0000\n",
            "Epoch 122/150\n",
            "2533/2533 [==============================] - 5s 2ms/step - loss: 3.5360e-04 - accuracy: 1.0000\n",
            "Epoch 123/150\n",
            "2533/2533 [==============================] - 5s 2ms/step - loss: 3.5097e-04 - accuracy: 1.0000\n",
            "Epoch 124/150\n",
            "2533/2533 [==============================] - 5s 2ms/step - loss: 3.4742e-04 - accuracy: 1.0000\n",
            "Epoch 125/150\n",
            "2533/2533 [==============================] - 5s 2ms/step - loss: 3.4493e-04 - accuracy: 1.0000\n",
            "Epoch 126/150\n",
            "2533/2533 [==============================] - 5s 2ms/step - loss: 3.4217e-04 - accuracy: 1.0000\n",
            "Epoch 127/150\n",
            "2533/2533 [==============================] - 5s 2ms/step - loss: 3.3892e-04 - accuracy: 1.0000\n",
            "Epoch 128/150\n",
            "2533/2533 [==============================] - 5s 2ms/step - loss: 3.3680e-04 - accuracy: 1.0000\n",
            "Epoch 129/150\n",
            "2533/2533 [==============================] - 5s 2ms/step - loss: 3.3400e-04 - accuracy: 1.0000\n",
            "Epoch 130/150\n",
            "2533/2533 [==============================] - 5s 2ms/step - loss: 3.3059e-04 - accuracy: 1.0000\n",
            "Epoch 131/150\n",
            "2533/2533 [==============================] - 5s 2ms/step - loss: 3.2879e-04 - accuracy: 1.0000\n",
            "Epoch 132/150\n",
            "2533/2533 [==============================] - 5s 2ms/step - loss: 3.2597e-04 - accuracy: 1.0000\n",
            "Epoch 133/150\n",
            "2533/2533 [==============================] - 5s 2ms/step - loss: 3.2358e-04 - accuracy: 1.0000\n",
            "Epoch 134/150\n",
            "2533/2533 [==============================] - 5s 2ms/step - loss: 3.2108e-04 - accuracy: 1.0000\n",
            "Epoch 135/150\n",
            "2533/2533 [==============================] - 5s 2ms/step - loss: 3.1858e-04 - accuracy: 1.0000\n",
            "Epoch 136/150\n",
            "2533/2533 [==============================] - 5s 2ms/step - loss: 3.1619e-04 - accuracy: 1.0000\n",
            "Epoch 137/150\n",
            "2533/2533 [==============================] - 5s 2ms/step - loss: 3.1388e-04 - accuracy: 1.0000\n",
            "Epoch 138/150\n",
            "2533/2533 [==============================] - 5s 2ms/step - loss: 3.1135e-04 - accuracy: 1.0000\n",
            "Epoch 139/150\n",
            "2533/2533 [==============================] - 5s 2ms/step - loss: 3.0916e-04 - accuracy: 1.0000\n",
            "Epoch 140/150\n",
            "2533/2533 [==============================] - 5s 2ms/step - loss: 3.0657e-04 - accuracy: 1.0000\n",
            "Epoch 141/150\n",
            "2533/2533 [==============================] - 5s 2ms/step - loss: 3.0444e-04 - accuracy: 1.0000\n",
            "Epoch 142/150\n",
            "2533/2533 [==============================] - 5s 2ms/step - loss: 3.0186e-04 - accuracy: 1.0000\n",
            "Epoch 143/150\n",
            "2533/2533 [==============================] - 5s 2ms/step - loss: 3.0025e-04 - accuracy: 1.0000\n",
            "Epoch 144/150\n",
            "2533/2533 [==============================] - 5s 2ms/step - loss: 2.9795e-04 - accuracy: 1.0000\n",
            "Epoch 145/150\n",
            "2533/2533 [==============================] - 5s 2ms/step - loss: 2.9577e-04 - accuracy: 1.0000\n",
            "Epoch 146/150\n",
            "2533/2533 [==============================] - 5s 2ms/step - loss: 2.9365e-04 - accuracy: 1.0000\n",
            "Epoch 147/150\n",
            "2533/2533 [==============================] - 5s 2ms/step - loss: 2.9162e-04 - accuracy: 1.0000\n",
            "Epoch 148/150\n",
            "2533/2533 [==============================] - 5s 2ms/step - loss: 2.8972e-04 - accuracy: 1.0000\n",
            "Epoch 149/150\n",
            "2533/2533 [==============================] - 5s 2ms/step - loss: 2.8782e-04 - accuracy: 1.0000\n",
            "Epoch 150/150\n",
            "2533/2533 [==============================] - 5s 2ms/step - loss: 2.8568e-04 - accuracy: 1.0000\n"
          ],
          "name": "stdout"
        }
      ]
    },
    {
      "cell_type": "markdown",
      "metadata": {
        "id": "n0yTm1s-4QgS"
      },
      "source": [
        "# Evalualtion"
      ]
    },
    {
      "cell_type": "markdown",
      "metadata": {
        "id": "WsSZglfz2G6y"
      },
      "source": [
        "Let's look at the plot of loss and accuracy. You should see accuracy going up and loss going down."
      ]
    },
    {
      "cell_type": "code",
      "metadata": {
        "id": "3hlS2dIZ2FU6"
      },
      "source": [
        "plt.plot(history.history['accuracy'])\n",
        "plt.plot(history.history['loss'])"
      ],
      "execution_count": null,
      "outputs": []
    },
    {
      "cell_type": "markdown",
      "metadata": {
        "id": "sj1-MpYE26Pd"
      },
      "source": [
        "Let us evaluate our model. Remember in machine learning what we are most interested in is the accuracy on the test dataset as this data represents data that the model has not seen during training so it should test the model's ability to generalize to new data."
      ]
    },
    {
      "cell_type": "code",
      "metadata": {
        "id": "zhpjCErJ25YZ"
      },
      "source": [
        "#evalute the funtion\n",
        "output = model.evaluate(X_test, Y_test)\n",
        "print('Accuracy {:.2f}%'.format(out[1]*100))"
      ],
      "execution_count": null,
      "outputs": []
    },
    {
      "cell_type": "code",
      "metadata": {
        "id": "SWwww_T_60Iu",
        "colab": {
          "base_uri": "https://localhost:8080/",
          "height": 316
        },
        "outputId": "6a9289a5-b76f-44d1-afac-25828797ea01"
      },
      "source": [
        "picked_idx = random.randint(0, x_test.shape[0]-1)\n",
        "\n",
        "img_picked = x_test[picked_idx]\n",
        "label = y_test[picked_idx]\n",
        "print(img_picked.shape)\n",
        "pred_label = model.predict(img_picked.reshape(1, -1))\n",
        "\n",
        "plt.imshow(img_picked.reshape(28, 28))\n",
        "print('Label: ', label)\n",
        "print('Predicited Label', 1 if pred_label > 0.5 else 0)"
      ],
      "execution_count": null,
      "outputs": [
        {
          "output_type": "stream",
          "text": [
            "(784,)\n",
            "Label:  0\n",
            "Predicited Label 0\n"
          ],
          "name": "stdout"
        },
        {
          "output_type": "display_data",
          "data": {
            "image/png": "[encoded data removed]",
            "text/plain": [
              "<Figure size 432x288 with 1 Axes>"
            ]
          },
          "metadata": {
            "tags": [],
            "needs_background": "light"
          }
        }
      ]
    },
    {
      "cell_type": "markdown",
      "metadata": {
        "id": "D-YnwLcXVg_2"
      },
      "source": [
        "# Logistic Regression Using SGD (BONUS)"
      ]
    },
    {
      "cell_type": "markdown",
      "metadata": {
        "id": "glKbICXKmJmG"
      },
      "source": [
        "$$\\sigma (x) = \\frac {1}{1 + e^{-x}}$$\n",
        "$$y_{pred} = \\sigma (W \\cdot X^{T} + b)$$"
      ]
    },
    {
      "cell_type": "code",
      "metadata": {
        "id": "WOzJsL2baTBV"
      },
      "source": [
        "\n",
        "# N - batch size\n",
        "# W - weight of shape (1, num_features)\n",
        "# b - bias of shape (1,)\n",
        "# X - matrix of shape (N, num_features)\n",
        "# returns output of  ypred of shape (N,) **make sure to reshape**\n",
        "# note you have to find the dot product of W and the transpose of X (look up how to do this using numpy)\n",
        "def model_predict(W, b, X):\n",
        "  b=0\n",
        "  y_pred= np.dot(W,X.T)+b \n",
        "\n",
        "  def activation_fn(y):\n",
        "    # return  sigmoid function applied to y\n",
        "    # note there is a function called np.exp\n",
        "    return 1/(1 + np.exp(y))\n",
        "  \n",
        "  "
      ],
      "execution_count": 64,
      "outputs": []
    },
    {
      "cell_type": "markdown",
      "metadata": {
        "id": "PvNdNV9wixbt"
      },
      "source": [
        "$$L = -\\frac{1}{N}\\sum y_{target}log(y_{pred}) + (1-y_{target})log(1-y_{pred})$$"
      ]
    },
    {
      "cell_type": "code",
      "metadata": {
        "id": "IQMuOnS3iCsr"
      },
      "source": [
        "\n",
        "# y_target - vector of targets of shape (N,)\n",
        "# y_pred - vector of predictions of shape (N, )\n",
        "# returns output of binary cross entropy loss function above\n",
        "# **note you can find the mean using np.mean**\n",
        "def loss_fn(y_target, y_pred):\n",
        "  N=len(X)\n",
        "  cost=[]\n",
        "  cost=-(1/N)*np.sum(y_target*np.log(y_pred)+(1-y_target)*np.log(1-y_pred))\n",
        "  return np.exp(cost)\n",
        "  "
      ],
      "execution_count": 68,
      "outputs": []
    },
    {
      "cell_type": "markdown",
      "metadata": {
        "id": "d8A7AY-XpBUP"
      },
      "source": [
        "$$\\frac{\\partial{L}}{\\partial{W}} = \\frac{1}{N}(y_{pred}-y_{target})\\cdot X$$\n",
        "$$\\frac{\\partial{L}}{\\partial{b}} = \\frac{1}{N}\\sum (y_{pred}-y_{target})$$"
      ]
    },
    {
      "cell_type": "code",
      "metadata": {
        "id": "Tzj05MnAnvmD"
      },
      "source": [
        "\n",
        "# N - batch size \n",
        "# y_pred - vector of predicitions of shape (N,)\n",
        "# y_target - vector of targets of shape (N,)\n",
        "# X - matrix of shape (N, num_features)\n",
        "# returns dl_dw, dl_db - parital derivative of loss with respect to the weights, partial derivative of loss with respect \n",
        "# to bias note you have to find the dot product\n",
        "def gradient_calc(y_pred, y_target, X):\n",
        "  N=len(X)\n",
        "  dl_dw= 1/N*np.dot((y_pred-y_target).X)\n",
        "  dl_db= 1/N*np.sum(y_pred-y_target)\n",
        "  \n",
        "  return dl_dw, dl_db"
      ],
      "execution_count": 62,
      "outputs": []
    },
    {
      "cell_type": "markdown",
      "metadata": {
        "id": "7LkRo2VVRhSr"
      },
      "source": [
        "# Gradient descent\n",
        "$$ W = W - \\alpha \\frac{\\partial L}{\\partial W}$$\n",
        "$$ b = b - \\alpha \\frac{\\partial L}{\\partial b}$$"
      ]
    },
    {
      "cell_type": "code",
      "metadata": {
        "id": "VTQPDi5n4h1E"
      },
      "source": [
        "\n",
        "# W - weight of shape (1, num_features)\n",
        "# b - bias of shape(1,)\n",
        "# alpha - learning rate\n",
        "# dl_dw - partial derivative of loss with respect to weight of shape (1, num_features)\n",
        "# dl_db - partial derivative of loss with respect to bias (1,)\n",
        "# returns W, b - updated weight and bias\n",
        "def gradient_step(W, b, dl_dw, dl_db, alpha=0.01):\n",
        "  W_deriv=0\n",
        "  b_deriv=0\n",
        "  N=len(X)\n",
        "  for i in range(N):\n",
        "    #calculate patrial derivatives\n",
        "    #-2(dl_db-(Wdl_dw))\n",
        "    W_deriv += -2*dl_dw[i]* (dl_db[i]-(W*dl_dw[i]+ b))\n",
        "\n",
        "    #-2(dl_db-(Wdl_dw))\n",
        "    b_deriv += -2*(dl_db[i]-(W*dl_dw[i]+b))\n",
        "\n",
        "    W -= (W_deriv/ float(N))* alpha\n",
        "    b -= (b_deriv/ float(N))* alpha\n",
        "    return W, b"
      ],
      "execution_count": null,
      "outputs": []
    },
    {
      "cell_type": "markdown",
      "metadata": {
        "id": "GhDHd4P78nei"
      },
      "source": [
        "Initialize weight and bias"
      ]
    },
    {
      "cell_type": "code",
      "metadata": {
        "id": "kBGBap548EDj"
      },
      "source": [
        "W = np.random.randn(1, 784) \n",
        "b = np.zeros(1,)"
      ],
      "execution_count": null,
      "outputs": []
    },
    {
      "cell_type": "code",
      "metadata": {
        "id": "HqCzOk52Vw3y"
      },
      "source": [
        "num_epochs = 20 #iterations through the entire dataset\n",
        "batch_size = 16\n",
        "alpha = 0.001 # learning rate"
      ],
      "execution_count": null,
      "outputs": []
    },
    {
      "cell_type": "code",
      "metadata": {
        "id": "4D1qcUR-e5Ro",
        "colab": {
          "base_uri": "https://localhost:8080/",
          "height": 435
        },
        "outputId": "8048dc8b-ab99-48ca-ef29-72558bc186e4"
      },
      "source": [
        "losses = []\n",
        "for i in range(num_epochs):\n",
        "  num_batches = len(x_train)//batch_size # split into mini batches\n",
        "  for j in range(num_batches):\n",
        "    X = x_train[j*batch_size:(j+1)*batch_size]\n",
        "    y_target = y_train[j*batch_size:(j+1)*batch_size]\n",
        "    y_pred = model_predict(W, b, X)\n",
        "    loss = loss_fn(y_target, y_pred)\n",
        "    dl_dw, dl_db = gradient_calc(y_pred, y_target, X)\n",
        "    W, b = gradient_step(W, b, dl_dw, dl_db, alpha)\n",
        "  losses.append(loss)\n",
        "  print('Epoch: ', i, ' Loss: ', loss)"
      ],
      "execution_count": 69,
      "outputs": [
        {
          "output_type": "error",
          "ename": "TypeError",
          "evalue": "ignored",
          "traceback": [
            "\u001b[0;31m---------------------------------------------------------------------------\u001b[0m",
            "\u001b[0;31mAttributeError\u001b[0m                            Traceback (most recent call last)",
            "\u001b[0;31mAttributeError\u001b[0m: 'NoneType' object has no attribute 'log'",
            "\nThe above exception was the direct cause of the following exception:\n",
            "\u001b[0;31mTypeError\u001b[0m                                 Traceback (most recent call last)",
            "\u001b[0;32m<ipython-input-69-8a7fe0814942>\u001b[0m in \u001b[0;36m<module>\u001b[0;34m()\u001b[0m\n\u001b[1;32m      6\u001b[0m     \u001b[0my_target\u001b[0m \u001b[0;34m=\u001b[0m \u001b[0my_train\u001b[0m\u001b[0;34m[\u001b[0m\u001b[0mj\u001b[0m\u001b[0;34m*\u001b[0m\u001b[0mbatch_size\u001b[0m\u001b[0;34m:\u001b[0m\u001b[0;34m(\u001b[0m\u001b[0mj\u001b[0m\u001b[0;34m+\u001b[0m\u001b[0;36m1\u001b[0m\u001b[0;34m)\u001b[0m\u001b[0;34m*\u001b[0m\u001b[0mbatch_size\u001b[0m\u001b[0;34m]\u001b[0m\u001b[0;34m\u001b[0m\u001b[0;34m\u001b[0m\u001b[0m\n\u001b[1;32m      7\u001b[0m     \u001b[0my_pred\u001b[0m \u001b[0;34m=\u001b[0m \u001b[0mmodel_predict\u001b[0m\u001b[0;34m(\u001b[0m\u001b[0mW\u001b[0m\u001b[0;34m,\u001b[0m \u001b[0mb\u001b[0m\u001b[0;34m,\u001b[0m \u001b[0mX\u001b[0m\u001b[0;34m)\u001b[0m\u001b[0;34m\u001b[0m\u001b[0;34m\u001b[0m\u001b[0m\n\u001b[0;32m----> 8\u001b[0;31m     \u001b[0mloss\u001b[0m \u001b[0;34m=\u001b[0m \u001b[0mloss_fn\u001b[0m\u001b[0;34m(\u001b[0m\u001b[0my_target\u001b[0m\u001b[0;34m,\u001b[0m \u001b[0my_pred\u001b[0m\u001b[0;34m)\u001b[0m\u001b[0;34m\u001b[0m\u001b[0;34m\u001b[0m\u001b[0m\n\u001b[0m\u001b[1;32m      9\u001b[0m     \u001b[0mdl_dw\u001b[0m\u001b[0;34m,\u001b[0m \u001b[0mdl_db\u001b[0m \u001b[0;34m=\u001b[0m \u001b[0mgradient_calc\u001b[0m\u001b[0;34m(\u001b[0m\u001b[0my_pred\u001b[0m\u001b[0;34m,\u001b[0m \u001b[0my_target\u001b[0m\u001b[0;34m,\u001b[0m \u001b[0mX\u001b[0m\u001b[0;34m)\u001b[0m\u001b[0;34m\u001b[0m\u001b[0;34m\u001b[0m\u001b[0m\n\u001b[1;32m     10\u001b[0m     \u001b[0mW\u001b[0m\u001b[0;34m,\u001b[0m \u001b[0mb\u001b[0m \u001b[0;34m=\u001b[0m \u001b[0mgradient_step\u001b[0m\u001b[0;34m(\u001b[0m\u001b[0mW\u001b[0m\u001b[0;34m,\u001b[0m \u001b[0mb\u001b[0m\u001b[0;34m,\u001b[0m \u001b[0mdl_dw\u001b[0m\u001b[0;34m,\u001b[0m \u001b[0mdl_db\u001b[0m\u001b[0;34m,\u001b[0m \u001b[0malpha\u001b[0m\u001b[0;34m)\u001b[0m\u001b[0;34m\u001b[0m\u001b[0;34m\u001b[0m\u001b[0m\n",
            "\u001b[0;32m<ipython-input-68-2fd04bd6ece3>\u001b[0m in \u001b[0;36mloss_fn\u001b[0;34m(y_target, y_pred)\u001b[0m\n\u001b[1;32m      7\u001b[0m   \u001b[0mN\u001b[0m\u001b[0;34m=\u001b[0m\u001b[0mlen\u001b[0m\u001b[0;34m(\u001b[0m\u001b[0mX\u001b[0m\u001b[0;34m)\u001b[0m\u001b[0;34m\u001b[0m\u001b[0;34m\u001b[0m\u001b[0m\n\u001b[1;32m      8\u001b[0m   \u001b[0mcost\u001b[0m\u001b[0;34m=\u001b[0m\u001b[0;34m[\u001b[0m\u001b[0;34m]\u001b[0m\u001b[0;34m\u001b[0m\u001b[0;34m\u001b[0m\u001b[0m\n\u001b[0;32m----> 9\u001b[0;31m   \u001b[0mcost\u001b[0m\u001b[0;34m=\u001b[0m\u001b[0;34m-\u001b[0m\u001b[0;34m(\u001b[0m\u001b[0;36m1\u001b[0m\u001b[0;34m/\u001b[0m\u001b[0mN\u001b[0m\u001b[0;34m)\u001b[0m\u001b[0;34m*\u001b[0m\u001b[0mnp\u001b[0m\u001b[0;34m.\u001b[0m\u001b[0msum\u001b[0m\u001b[0;34m(\u001b[0m\u001b[0my_target\u001b[0m\u001b[0;34m*\u001b[0m\u001b[0mnp\u001b[0m\u001b[0;34m.\u001b[0m\u001b[0mlog\u001b[0m\u001b[0;34m(\u001b[0m\u001b[0my_pred\u001b[0m\u001b[0;34m)\u001b[0m\u001b[0;34m+\u001b[0m\u001b[0;34m(\u001b[0m\u001b[0;36m1\u001b[0m\u001b[0;34m-\u001b[0m\u001b[0my_target\u001b[0m\u001b[0;34m)\u001b[0m\u001b[0;34m*\u001b[0m\u001b[0mnp\u001b[0m\u001b[0;34m.\u001b[0m\u001b[0mlog\u001b[0m\u001b[0;34m(\u001b[0m\u001b[0;36m1\u001b[0m\u001b[0;34m-\u001b[0m\u001b[0my_pred\u001b[0m\u001b[0;34m)\u001b[0m\u001b[0;34m)\u001b[0m\u001b[0;34m\u001b[0m\u001b[0;34m\u001b[0m\u001b[0m\n\u001b[0m\u001b[1;32m     10\u001b[0m   \u001b[0;32mreturn\u001b[0m \u001b[0mnp\u001b[0m\u001b[0;34m.\u001b[0m\u001b[0mexp\u001b[0m\u001b[0;34m(\u001b[0m\u001b[0mcost\u001b[0m\u001b[0;34m)\u001b[0m\u001b[0;34m\u001b[0m\u001b[0;34m\u001b[0m\u001b[0m\n\u001b[1;32m     11\u001b[0m \u001b[0;34m\u001b[0m\u001b[0m\n",
            "\u001b[0;31mTypeError\u001b[0m: loop of ufunc does not support argument 0 of type NoneType which has no callable log method"
          ]
        }
      ]
    },
    {
      "cell_type": "markdown",
      "metadata": {
        "id": "DyIPJjCJ86i0"
      },
      "source": [
        "Let us now plot the loss"
      ]
    },
    {
      "cell_type": "code",
      "metadata": {
        "id": "UQpWfppdWQrf",
        "colab": {
          "base_uri": "https://localhost:8080/",
          "height": 282
        },
        "outputId": "e72b8645-471f-40fe-8483-e97eec3cb9f2"
      },
      "source": [
        "plt.plot(losses)"
      ],
      "execution_count": null,
      "outputs": [
        {
          "output_type": "execute_result",
          "data": {
            "text/plain": [
              "[<matplotlib.lines.Line2D at 0x7fa7bd10cf98>]"
            ]
          },
          "metadata": {
            "tags": []
          },
          "execution_count": 90
        },
        {
          "output_type": "display_data",
          "data": {
            "image/png": "[encoded data removed]",
            "text/plain": [
              "<Figure size 432x288 with 1 Axes>"
            ]
          },
          "metadata": {
            "tags": [],
            "needs_background": "light"
          }
        }
      ]
    },
    {
      "cell_type": "markdown",
      "metadata": {
        "id": "tnl2qbaqaqw3"
      },
      "source": [
        "# Evaluation/Test"
      ]
    },
    {
      "cell_type": "code",
      "metadata": {
        "id": "zPXQTHm0aaHD",
        "colab": {
          "base_uri": "https://localhost:8080/",
          "height": 316
        },
        "outputId": "810cfb81-1b5c-4876-f991-fe9133515aa2"
      },
      "source": [
        "picked_idx = random.randint(0, x_test.shape[0]-1)\n",
        "\n",
        "img_picked = x_test[picked_idx]\n",
        "label = y_test[picked_idx]\n",
        "print(img_picked.shape)\n",
        "pred_label = model_predict(W, b, img_picked.reshape(1, -1))\n",
        "plt.imshow(img_picked.reshape(28, 28))\n",
        "print('Label: ', label)\n",
        "print('Predicited Label', 1 if pred_label > 0.5 else 0)"
      ],
      "execution_count": null,
      "outputs": [
        {
          "output_type": "stream",
          "text": [
            "(784,)\n",
            "Label:  1\n",
            "Predicited Label 1\n"
          ],
          "name": "stdout"
        },
        {
          "output_type": "display_data",
          "data": {
            "image/png": "[encoded data removed]",
            "text/plain": [
              "<Figure size 432x288 with 1 Axes>"
            ]
          },
          "metadata": {
            "tags": [],
            "needs_background": "light"
          }
        }
      ]
    },
    {
      "cell_type": "markdown",
      "metadata": {
        "id": "Zumoi8I29FGz"
      },
      "source": [
        "Let us see how well your model did."
      ]
    },
    {
      "cell_type": "code",
      "metadata": {
        "id": "SI4L0XEWa-Ez",
        "colab": {
          "base_uri": "https://localhost:8080/"
        },
        "outputId": "ee9aa364-cfce-45fe-bbf9-fd3c7df18b41"
      },
      "source": [
        "eval_pred = model_predict(W, b, x_test)\n",
        "eval_pred = (eval_pred > 0.5).astype(float) # anything with more than 50% probability is seen as a 1\n",
        "accuracy = np.mean((eval_pred == y_test).astype(float))\n",
        "print('Accuracy: {:.2f}%'.format(float(accuracy*100)))"
      ],
      "execution_count": null,
      "outputs": [
        {
          "output_type": "stream",
          "text": [
            "Accuracy: 98.96%\n"
          ],
          "name": "stdout"
        }
      ]
    }
  ]
}