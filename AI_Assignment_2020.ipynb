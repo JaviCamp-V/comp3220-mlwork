{
  "nbformat": 4,
  "nbformat_minor": 0,
  "metadata": {
    "colab": {
      "name": "AI Assignment 2020.ipynb",
      "provenance": [],
      "collapsed_sections": [],
      "toc_visible": true
    },
    "kernelspec": {
      "name": "python3",
      "display_name": "Python 3"
    }
  },
  "cells": [
    {
      "cell_type": "markdown",
      "metadata": {
        "id": "YOUzHRHN3vAT"
      },
      "source": [
        "# Binary Digit Classifier\n",
        "\n",
        "We have been offered a job at ML Solutions Limited to create a neural network classifier that can classify images of written binary digits (1 or 0)."
      ]
    },
    {
      "cell_type": "code",
      "metadata": {
        "id": "iSbYnuQlQXat"
      },
      "source": [
        "import tensorflow as tf\n",
        "import numpy as np"
      ],
      "execution_count": null,
      "outputs": []
    },
    {
      "cell_type": "code",
      "metadata": {
        "id": "5bqNYCG9tOn8"
      },
      "source": [
        "from tensorflow.keras.datasets import mnist"
      ],
      "execution_count": null,
      "outputs": []
    },
    {
      "cell_type": "code",
      "metadata": {
        "id": "PkL32QxRtex6"
      },
      "source": [
        "(x_train, y_train), (x_test, y_test) = mnist.load_data()"
      ],
      "execution_count": null,
      "outputs": []
    },
    {
      "cell_type": "code",
      "metadata": {
        "id": "G2AJdfaZtj9r",
        "outputId": "d317ccde-b6d6-4d34-a446-08526b49f62c",
        "colab": {
          "base_uri": "https://localhost:8080/"
        }
      },
      "source": [
        "x_train.shape, x_test.shape"
      ],
      "execution_count": null,
      "outputs": [
        {
          "output_type": "execute_result",
          "data": {
            "text/plain": [
              "((60000, 28, 28), (10000, 28, 28))"
            ]
          },
          "metadata": {
            "tags": []
          },
          "execution_count": 64
        }
      ]
    },
    {
      "cell_type": "markdown",
      "metadata": {
        "id": "SRwpCiLHtr7B"
      },
      "source": [
        "Now we want to take out the 1's and 0's from this dataset so that we can do classification on those. Here we are extracting the input data and their respective labels for those whose labeles have either 0 or 1."
      ]
    },
    {
      "cell_type": "code",
      "metadata": {
        "id": "B8djEJFOtn5F"
      },
      "source": [
        "x_train, y_train = x_train[(y_train==1) | (y_train==0)],y_train[(y_train==1) | (y_train==0)]"
      ],
      "execution_count": null,
      "outputs": []
    },
    {
      "cell_type": "code",
      "metadata": {
        "id": "U7aMLCLCuGyx",
        "outputId": "0fbff0e6-a80b-4265-95f4-aa67f026ead8",
        "colab": {
          "base_uri": "https://localhost:8080/"
        }
      },
      "source": [
        "x_train.shape, y_train.shape"
      ],
      "execution_count": null,
      "outputs": [
        {
          "output_type": "execute_result",
          "data": {
            "text/plain": [
              "((12665, 28, 28), (12665,))"
            ]
          },
          "metadata": {
            "tags": []
          },
          "execution_count": 66
        }
      ]
    },
    {
      "cell_type": "markdown",
      "metadata": {
        "id": "Dq5GcxhRvIZt"
      },
      "source": [
        "We do the same on the test data"
      ]
    },
    {
      "cell_type": "code",
      "metadata": {
        "id": "ZxITpob3u0il"
      },
      "source": [
        "# FILL IN HERE\n",
        "\n",
        "# Do the same to the x_test and y_test\n"
      ],
      "execution_count": null,
      "outputs": []
    },
    {
      "cell_type": "code",
      "metadata": {
        "id": "aBW7ikV84qKz",
        "outputId": "36d2d5c3-9719-4919-e5fc-78e57167fee2",
        "colab": {
          "base_uri": "https://localhost:8080/"
        }
      },
      "source": [
        "x_test.shape, y_test.shape"
      ],
      "execution_count": null,
      "outputs": [
        {
          "output_type": "execute_result",
          "data": {
            "text/plain": [
              "((2115, 28, 28), (2115,))"
            ]
          },
          "metadata": {
            "tags": []
          },
          "execution_count": 68
        }
      ]
    },
    {
      "cell_type": "markdown",
      "metadata": {
        "id": "b_4SxcsLva_K"
      },
      "source": [
        "Let us see what our data looks like. We will pick a random instance from the dataset and visualize it."
      ]
    },
    {
      "cell_type": "code",
      "metadata": {
        "id": "OMkpiDcNvW0n",
        "outputId": "94c8c221-fc2c-4024-b1df-dba813d8c84a",
        "colab": {
          "base_uri": "https://localhost:8080/",
          "height": 282
        }
      },
      "source": [
        "import random\n",
        "import matplotlib.pyplot as plt\n",
        "picked_idx = random.randint(0, x_train.shape[0]-1)\n",
        "\n",
        "img_picked = x_train[picked_idx]\n",
        "label = y_train[picked_idx]\n",
        "\n",
        "plt.imshow(img_picked)\n",
        "print('Label: ', label)\n"
      ],
      "execution_count": null,
      "outputs": [
        {
          "output_type": "stream",
          "text": [
            "Label:  0\n"
          ],
          "name": "stdout"
        },
        {
          "output_type": "display_data",
          "data": {
            "image/png": "[encoded data removed]",
            "text/plain": [
              "<Figure size 432x288 with 1 Axes>"
            ]
          },
          "metadata": {
            "tags": [],
            "needs_background": "light"
          }
        }
      ]
    },
    {
      "cell_type": "markdown",
      "metadata": {
        "id": "tDWW7n1Hwhe2"
      },
      "source": [
        "# Preprocessing\n",
        "\n",
        "Before we are ready to train our predict whether an image is a 1 or a 0, we need to do some preprocessing on the data."
      ]
    },
    {
      "cell_type": "code",
      "metadata": {
        "id": "oikiBpenwhGD"
      },
      "source": [
        "#FILL IN HERE\n",
        "\n",
        "# Neural networks play better with small numbers. Images tend to have pixel values between 0 and 255. \n",
        "# Rescale this to 0-1. Hint try dividing\n",
        "# Do this to x_train and x_test\n",
        "# Remember to store the output back into x_train and x_test"
      ],
      "execution_count": null,
      "outputs": []
    },
    {
      "cell_type": "code",
      "metadata": {
        "id": "1VsqKZSmyERP"
      },
      "source": [
        "#FILL IN HERE\n",
        "# Since you will be using a regular Dense neural network. The network expects your data to be flattened from 2D to 1D\n",
        "# Rehsape the data from (N, 28, 28) to (N, 784) N represents number of images. \n",
        "# Each image is 28x28, we want to chage that to one flat row with 784\n"
      ],
      "execution_count": null,
      "outputs": []
    },
    {
      "cell_type": "code",
      "metadata": {
        "id": "oa2FYvIs5NgD",
        "outputId": "02f6541d-7ac1-4216-8a58-625c3d63555e",
        "colab": {
          "base_uri": "https://localhost:8080/"
        }
      },
      "source": [
        "x_train.shape,x_test.shape"
      ],
      "execution_count": null,
      "outputs": [
        {
          "output_type": "execute_result",
          "data": {
            "text/plain": [
              "((12665, 784), (2115, 784))"
            ]
          },
          "metadata": {
            "tags": []
          },
          "execution_count": 72
        }
      ]
    },
    {
      "cell_type": "markdown",
      "metadata": {
        "id": "utKUP2Sw4M_G"
      },
      "source": [
        "# Create Model"
      ]
    },
    {
      "cell_type": "markdown",
      "metadata": {
        "id": "P9JEuHOPwRBG"
      },
      "source": [
        "Create a neural network model using tensorflow with at least 1 hidden layer. The output layer must have 1 unit. Experiment with different number of layers and number of units in each layer. This is where your creativitiy as a machine learning engineer comes in to play."
      ]
    },
    {
      "cell_type": "code",
      "metadata": {
        "id": "vUKwJdclvshK"
      },
      "source": [
        "# FILL IN HERE\n",
        "# Ensure the output layer uses sigmoid for activation\n",
        "# Finish the line below\n",
        "# model ="
      ],
      "execution_count": null,
      "outputs": []
    },
    {
      "cell_type": "markdown",
      "metadata": {
        "id": "gE3n1ppy0uVa"
      },
      "source": [
        "Compile the model"
      ]
    },
    {
      "cell_type": "code",
      "metadata": {
        "id": "hpDTrhi40tW3"
      },
      "source": [
        "# FILL IN HERE\n",
        "# Ensure you use the binary cross entropy loss function and sgd for your optmizer\n",
        "model.compile(optimizer='sgd', loss='binary_crossentropy', metrics=['accuracy'])"
      ],
      "execution_count": null,
      "outputs": []
    },
    {
      "cell_type": "markdown",
      "metadata": {
        "id": "4_dOXDNi0_NR"
      },
      "source": [
        "Now to train the model. Store the ouput of model.fit in a vairable called history as we are going to use this to plot the train accuracy and loss. Try different values for batch size and epochs. The aim is to get the highest test accuaracy possible."
      ]
    },
    {
      "cell_type": "code",
      "metadata": {
        "id": "hARFVH6S0-h7",
        "outputId": "bfc622eb-628c-4486-c12a-de58d21c45ed",
        "colab": {
          "base_uri": "https://localhost:8080/"
        }
      },
      "source": [
        "# FILL IN HERE\n",
        "# Uncomment and finish the line below\n",
        "# history = "
      ],
      "execution_count": null,
      "outputs": [
        {
          "output_type": "stream",
          "text": [
            "Epoch 1/10\n",
            "792/792 [==============================] - 1s 1ms/step - loss: 0.1251 - accuracy: 0.9852\n",
            "Epoch 2/10\n",
            "792/792 [==============================] - 1s 1ms/step - loss: 0.0103 - accuracy: 0.9978\n",
            "Epoch 3/10\n",
            "792/792 [==============================] - 1s 918us/step - loss: 0.0070 - accuracy: 0.9982\n",
            "Epoch 4/10\n",
            "792/792 [==============================] - 1s 918us/step - loss: 0.0058 - accuracy: 0.9986\n",
            "Epoch 5/10\n",
            "792/792 [==============================] - 1s 976us/step - loss: 0.0051 - accuracy: 0.9987\n",
            "Epoch 6/10\n",
            "792/792 [==============================] - 1s 923us/step - loss: 0.0045 - accuracy: 0.9988\n",
            "Epoch 7/10\n",
            "792/792 [==============================] - 1s 919us/step - loss: 0.0042 - accuracy: 0.9988\n",
            "Epoch 8/10\n",
            "792/792 [==============================] - 1s 945us/step - loss: 0.0038 - accuracy: 0.9988\n",
            "Epoch 9/10\n",
            "792/792 [==============================] - 1s 931us/step - loss: 0.0036 - accuracy: 0.9989\n",
            "Epoch 10/10\n",
            "792/792 [==============================] - 1s 929us/step - loss: 0.0034 - accuracy: 0.9990\n"
          ],
          "name": "stdout"
        }
      ]
    },
    {
      "cell_type": "markdown",
      "metadata": {
        "id": "n0yTm1s-4QgS"
      },
      "source": [
        "# Evalualtion"
      ]
    },
    {
      "cell_type": "markdown",
      "metadata": {
        "id": "WsSZglfz2G6y"
      },
      "source": [
        "Let's look at the plot of loss and accuracy. You should see accuracy going up and loss going down."
      ]
    },
    {
      "cell_type": "code",
      "metadata": {
        "id": "3hlS2dIZ2FU6",
        "outputId": "7ee207d4-8f48-4224-fac7-cda1cff892e2",
        "colab": {
          "base_uri": "https://localhost:8080/",
          "height": 282
        }
      },
      "source": [
        "plt.plot(history.history['accuracy'])\n",
        "plt.plot(history.history['loss'])"
      ],
      "execution_count": null,
      "outputs": [
        {
          "output_type": "execute_result",
          "data": {
            "text/plain": [
              "[<matplotlib.lines.Line2D at 0x7fa7bd1dcd68>]"
            ]
          },
          "metadata": {
            "tags": []
          },
          "execution_count": 76
        },
        {
          "output_type": "display_data",
          "data": {
            "image/png": "[encoded data removed]",
            "text/plain": [
              "<Figure size 432x288 with 1 Axes>"
            ]
          },
          "metadata": {
            "tags": [],
            "needs_background": "light"
          }
        }
      ]
    },
    {
      "cell_type": "markdown",
      "metadata": {
        "id": "sj1-MpYE26Pd"
      },
      "source": [
        "Let us evaluate our model. Remember in machine learning what we are most interested in is the accuracy on the test dataset as this data represents data that the model has not seen during training so it should test the model's ability to generalize to new data."
      ]
    },
    {
      "cell_type": "code",
      "metadata": {
        "id": "zhpjCErJ25YZ",
        "outputId": "183e2969-a69b-47d4-f512-84da9e48b92c",
        "colab": {
          "base_uri": "https://localhost:8080/"
        }
      },
      "source": [
        "# Fill in here \n",
        "# Call the evaluate function on x_test and y_test, store output in variable called out\n",
        "# Finish line below\n",
        "# out = \n",
        "print('Accuracy {:.2f}%'.format(out[1]*100))"
      ],
      "execution_count": null,
      "outputs": [
        {
          "output_type": "stream",
          "text": [
            "67/67 [==============================] - 0s 971us/step - loss: 0.0025 - accuracy: 0.9995\n"
          ],
          "name": "stdout"
        },
        {
          "output_type": "execute_result",
          "data": {
            "text/plain": [
              "[0.0025366751942783594, 0.9995272159576416]"
            ]
          },
          "metadata": {
            "tags": []
          },
          "execution_count": 77
        }
      ]
    },
    {
      "cell_type": "code",
      "metadata": {
        "id": "SWwww_T_60Iu",
        "outputId": "6a9289a5-b76f-44d1-afac-25828797ea01",
        "colab": {
          "base_uri": "https://localhost:8080/",
          "height": 316
        }
      },
      "source": [
        "picked_idx = random.randint(0, x_test.shape[0]-1)\n",
        "\n",
        "img_picked = x_test[picked_idx]\n",
        "label = y_test[picked_idx]\n",
        "print(img_picked.shape)\n",
        "pred_label = model.predict(img_picked.reshape(1, -1))\n",
        "\n",
        "plt.imshow(img_picked.reshape(28, 28))\n",
        "print('Label: ', label)\n",
        "print('Predicited Label', 1 if pred_label > 0.5 else 0)"
      ],
      "execution_count": null,
      "outputs": [
        {
          "output_type": "stream",
          "text": [
            "(784,)\n",
            "Label:  0\n",
            "Predicited Label 0\n"
          ],
          "name": "stdout"
        },
        {
          "output_type": "display_data",
          "data": {
            "image/png": "[encoded data removed]",
            "text/plain": [
              "<Figure size 432x288 with 1 Axes>"
            ]
          },
          "metadata": {
            "tags": [],
            "needs_background": "light"
          }
        }
      ]
    },
    {
      "cell_type": "markdown",
      "metadata": {
        "id": "D-YnwLcXVg_2"
      },
      "source": [
        "# Logistic Regression Using SGD (BONUS)"
      ]
    },
    {
      "cell_type": "markdown",
      "metadata": {
        "id": "glKbICXKmJmG"
      },
      "source": [
        "$$\\sigma (x) = \\frac {1}{1 + e^{-x}}$$\n",
        "$$y_{pred} = \\sigma (W \\cdot X^{T} + b)$$"
      ]
    },
    {
      "cell_type": "code",
      "metadata": {
        "id": "WOzJsL2baTBV"
      },
      "source": [
        "#FILL IN\n",
        "# N - batch size\n",
        "# W - weight of shape (1, num_features)\n",
        "# b - bias of shape (1,)\n",
        "# X - matrix of shape (N, num_features)\n",
        "# returns output of  ypred of shape (N,) **make sure to reshape**\n",
        "# note you have to find the dot product of W and the transpose of X (look up how to do this using numpy)\n",
        "def model_predict(W, b, X):\n",
        "\n",
        "  def activation_fn(y):\n",
        "    # return  sigmoid function applied to y\n",
        "    # note there is a function called np.exp\n",
        "  \n",
        "  "
      ],
      "execution_count": null,
      "outputs": []
    },
    {
      "cell_type": "markdown",
      "metadata": {
        "id": "PvNdNV9wixbt"
      },
      "source": [
        "$$L = -\\frac{1}{N}\\sum y_{target}log(y_{pred}) + (1-y_{target})log(1-y_{pred})$$"
      ]
    },
    {
      "cell_type": "code",
      "metadata": {
        "id": "IQMuOnS3iCsr"
      },
      "source": [
        "# FILL IN\n",
        "# y_target - vector of targets of shape (N,)\n",
        "# y_pred - vector of predictions of shape (N, )\n",
        "# returns output of binary cross entropy loss function above\n",
        "# **note you can find the mean using np.mean**\n",
        "def loss_fn(y_target, y_pred):\n",
        "  "
      ],
      "execution_count": null,
      "outputs": []
    },
    {
      "cell_type": "markdown",
      "metadata": {
        "id": "d8A7AY-XpBUP"
      },
      "source": [
        "$$\\frac{\\partial{L}}{\\partial{W}} = \\frac{1}{N}(y_{pred}-y_{target})\\cdot X$$\n",
        "$$\\frac{\\partial{L}}{\\partial{b}} = \\frac{1}{N}\\sum (y_{pred}-y_{target})$$"
      ]
    },
    {
      "cell_type": "code",
      "metadata": {
        "id": "Tzj05MnAnvmD"
      },
      "source": [
        "# FILL IN\n",
        "# N - batch size \n",
        "# y_pred - vector of predicitions of shape (N,)\n",
        "# y_target - vector of targets of shape (N,)\n",
        "# X - matrix of shape (N, num_features)\n",
        "# returns dl_dw, dl_db - parital derivative of loss with respect to the weights, partial derivative of loss with respect \n",
        "# to bias note you have to find the dot product\n",
        "def gradient_calc(y_pred, y_target, X):\n",
        "  N = len(X)\n",
        "  \n",
        "  return dl_dw, dl_db"
      ],
      "execution_count": null,
      "outputs": []
    },
    {
      "cell_type": "markdown",
      "metadata": {
        "id": "7LkRo2VVRhSr"
      },
      "source": [
        "# Gradient descent\n",
        "$$ W = W - \\alpha \\frac{\\partial L}{\\partial W}$$\n",
        "$$ b = b - \\alpha \\frac{\\partial L}{\\partial b}$$"
      ]
    },
    {
      "cell_type": "code",
      "metadata": {
        "id": "VTQPDi5n4h1E"
      },
      "source": [
        "# FILL IN\n",
        "# W - weight of shape (1, num_features)\n",
        "# b - bias of shape(1,)\n",
        "# alpha - learning rate\n",
        "# dl_dw - partial derivative of loss with respect to weight of shape (1, num_features)\n",
        "# dl_db - partial derivative of loss with respect to bias (1,)\n",
        "# returns W, b - updated weight and bias\n",
        "def gradient_step(W, b, dl_dw, dl_db, alpha=0.01):\n",
        "  \n",
        "  return W, b"
      ],
      "execution_count": null,
      "outputs": []
    },
    {
      "cell_type": "markdown",
      "metadata": {
        "id": "GhDHd4P78nei"
      },
      "source": [
        "Initialize weight and bias"
      ]
    },
    {
      "cell_type": "code",
      "metadata": {
        "id": "kBGBap548EDj"
      },
      "source": [
        "W = np.random.randn(1, 784) \n",
        "b = np.zeros(1,)"
      ],
      "execution_count": null,
      "outputs": []
    },
    {
      "cell_type": "code",
      "metadata": {
        "id": "HqCzOk52Vw3y"
      },
      "source": [
        "num_epochs = 20 #iterations through the entire dataset\n",
        "batch_size = 16\n",
        "alpha = 0.001 # learning rate"
      ],
      "execution_count": null,
      "outputs": []
    },
    {
      "cell_type": "code",
      "metadata": {
        "id": "4D1qcUR-e5Ro",
        "outputId": "4bf108db-79ff-41b2-8ebc-3c98a10f0b36",
        "colab": {
          "base_uri": "https://localhost:8080/"
        }
      },
      "source": [
        "losses = []\n",
        "for i in range(num_epochs):\n",
        "  num_batches = len(x_train)//batch_size # split into mini batches\n",
        "  for j in range(num_batches):\n",
        "    X = x_train[j*batch_size:(j+1)*batch_size]\n",
        "    y_target = y_train[j*batch_size:(j+1)*batch_size]\n",
        "    y_pred = model_predict(W, b, X)\n",
        "    loss = loss_fn(y_target, y_pred)\n",
        "    dl_dw, dl_db = gradient_calc(y_pred, y_target, X)\n",
        "    W, b = gradient_step(W, b, dl_dw, dl_db, alpha)\n",
        "  losses.append(loss)\n",
        "  print('Epoch: ', i, ' Loss: ', loss)"
      ],
      "execution_count": null,
      "outputs": [
        {
          "output_type": "stream",
          "text": [
            "Epoch:  0  Loss:  2.0382103768454494\n",
            "Epoch:  1  Loss:  1.1200771069932034\n",
            "Epoch:  2  Loss:  0.7003122743611546\n",
            "Epoch:  3  Loss:  0.4912665705868682\n",
            "Epoch:  4  Loss:  0.3771446248389853\n",
            "Epoch:  5  Loss:  0.30828539803193006\n",
            "Epoch:  6  Loss:  0.262670319360227\n",
            "Epoch:  7  Loss:  0.23009830353606303\n",
            "Epoch:  8  Loss:  0.20548537107061637\n",
            "Epoch:  9  Loss:  0.18608838194692992\n",
            "Epoch:  10  Loss:  0.1703137619461383\n",
            "Epoch:  11  Loss:  0.15717397959154591\n",
            "Epoch:  12  Loss:  0.1460226213927307\n",
            "Epoch:  13  Loss:  0.13641677164168645\n",
            "Epoch:  14  Loss:  0.12804122041306315\n",
            "Epoch:  15  Loss:  0.12066447728475542\n",
            "Epoch:  16  Loss:  0.11411202547938781\n",
            "Epoch:  17  Loss:  0.10824937308767983\n",
            "Epoch:  18  Loss:  0.10297091515227627\n",
            "Epoch:  19  Loss:  0.09819237892920024\n"
          ],
          "name": "stdout"
        }
      ]
    },
    {
      "cell_type": "markdown",
      "metadata": {
        "id": "DyIPJjCJ86i0"
      },
      "source": [
        "Let us now plot the loss"
      ]
    },
    {
      "cell_type": "code",
      "metadata": {
        "id": "UQpWfppdWQrf",
        "outputId": "e72b8645-471f-40fe-8483-e97eec3cb9f2",
        "colab": {
          "base_uri": "https://localhost:8080/",
          "height": 282
        }
      },
      "source": [
        "plt.plot(losses)"
      ],
      "execution_count": null,
      "outputs": [
        {
          "output_type": "execute_result",
          "data": {
            "text/plain": [
              "[<matplotlib.lines.Line2D at 0x7fa7bd10cf98>]"
            ]
          },
          "metadata": {
            "tags": []
          },
          "execution_count": 90
        },
        {
          "output_type": "display_data",
          "data": {
            "image/png": "[encoded data removed]",
            "text/plain": [
              "<Figure size 432x288 with 1 Axes>"
            ]
          },
          "metadata": {
            "tags": [],
            "needs_background": "light"
          }
        }
      ]
    },
    {
      "cell_type": "markdown",
      "metadata": {
        "id": "tnl2qbaqaqw3"
      },
      "source": [
        "# Evaluation/Test"
      ]
    },
    {
      "cell_type": "code",
      "metadata": {
        "id": "zPXQTHm0aaHD",
        "outputId": "810cfb81-1b5c-4876-f991-fe9133515aa2",
        "colab": {
          "base_uri": "https://localhost:8080/",
          "height": 316
        }
      },
      "source": [
        "picked_idx = random.randint(0, x_test.shape[0]-1)\n",
        "\n",
        "img_picked = x_test[picked_idx]\n",
        "label = y_test[picked_idx]\n",
        "print(img_picked.shape)\n",
        "pred_label = model_predict(W, b, img_picked.reshape(1, -1))\n",
        "plt.imshow(img_picked.reshape(28, 28))\n",
        "print('Label: ', label)\n",
        "print('Predicited Label', 1 if pred_label > 0.5 else 0)"
      ],
      "execution_count": null,
      "outputs": [
        {
          "output_type": "stream",
          "text": [
            "(784,)\n",
            "Label:  1\n",
            "Predicited Label 1\n"
          ],
          "name": "stdout"
        },
        {
          "output_type": "display_data",
          "data": {
            "image/png": "[encoded data removed]",
            "text/plain": [
              "<Figure size 432x288 with 1 Axes>"
            ]
          },
          "metadata": {
            "tags": [],
            "needs_background": "light"
          }
        }
      ]
    },
    {
      "cell_type": "markdown",
      "metadata": {
        "id": "Zumoi8I29FGz"
      },
      "source": [
        "Let us see how well your model did."
      ]
    },
    {
      "cell_type": "code",
      "metadata": {
        "id": "SI4L0XEWa-Ez",
        "outputId": "ee9aa364-cfce-45fe-bbf9-fd3c7df18b41",
        "colab": {
          "base_uri": "https://localhost:8080/"
        }
      },
      "source": [
        "eval_pred = model_predict(W, b, x_test)\n",
        "eval_pred = (eval_pred > 0.5).astype(float) # anything with more than 50% probability is seen as a 1\n",
        "accuracy = np.mean((eval_pred == y_test).astype(float))\n",
        "print('Accuracy: {:.2f}%'.format(float(accuracy*100)))"
      ],
      "execution_count": null,
      "outputs": [
        {
          "output_type": "stream",
          "text": [
            "Accuracy: 98.96%\n"
          ],
          "name": "stdout"
        }
      ]
    }
  ]
}